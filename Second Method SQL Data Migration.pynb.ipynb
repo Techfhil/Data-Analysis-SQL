{
 "cells": [
  {
   "cell_type": "code",
   "execution_count": null,
   "metadata": {},
   "outputs": [],
   "source": [
    "# Created by Philip Simeon\n",
    "# Date: 18 September 2023\n",
    "# SQL ALCHEMY METHOD LOADING DATA FROM SQL DATABASE TO PANDAS DF"
   ]
  },
  {
   "cell_type": "code",
   "execution_count": 5,
   "metadata": {},
   "outputs": [
    {
     "name": "stdout",
     "output_type": "stream",
     "text": [
      "400 rows loaded successfully\n"
     ]
    },
    {
     "data": {
      "text/html": [
       "<div>\n",
       "<style scoped>\n",
       "    .dataframe tbody tr th:only-of-type {\n",
       "        vertical-align: middle;\n",
       "    }\n",
       "\n",
       "    .dataframe tbody tr th {\n",
       "        vertical-align: top;\n",
       "    }\n",
       "\n",
       "    .dataframe thead th {\n",
       "        text-align: right;\n",
       "    }\n",
       "</style>\n",
       "<table border=\"1\" class=\"dataframe\">\n",
       "  <thead>\n",
       "    <tr style=\"text-align: right;\">\n",
       "      <th></th>\n",
       "      <th>0</th>\n",
       "      <th>1</th>\n",
       "      <th>2</th>\n",
       "      <th>3</th>\n",
       "    </tr>\n",
       "  </thead>\n",
       "  <tbody>\n",
       "    <tr>\n",
       "      <th>0</th>\n",
       "      <td>Timestamp</td>\n",
       "      <td>User_ID</td>\n",
       "      <td>Application_Type</td>\n",
       "      <td>Signal_Strength</td>\n",
       "    </tr>\n",
       "    <tr>\n",
       "      <th>1</th>\n",
       "      <td>Timestamp</td>\n",
       "      <td>User_ID</td>\n",
       "      <td>Application_Type</td>\n",
       "      <td>Signal_Strength</td>\n",
       "    </tr>\n",
       "    <tr>\n",
       "      <th>2</th>\n",
       "      <td>Timestamp</td>\n",
       "      <td>User_ID</td>\n",
       "      <td>Application_Type</td>\n",
       "      <td>Signal_Strength</td>\n",
       "    </tr>\n",
       "    <tr>\n",
       "      <th>3</th>\n",
       "      <td>Timestamp</td>\n",
       "      <td>User_ID</td>\n",
       "      <td>Application_Type</td>\n",
       "      <td>Signal_Strength</td>\n",
       "    </tr>\n",
       "    <tr>\n",
       "      <th>4</th>\n",
       "      <td>Timestamp</td>\n",
       "      <td>User_ID</td>\n",
       "      <td>Application_Type</td>\n",
       "      <td>Signal_Strength</td>\n",
       "    </tr>\n",
       "  </tbody>\n",
       "</table>\n",
       "</div>"
      ],
      "text/plain": [
       "           0        1                 2                3\n",
       "0  Timestamp  User_ID  Application_Type  Signal_Strength\n",
       "1  Timestamp  User_ID  Application_Type  Signal_Strength\n",
       "2  Timestamp  User_ID  Application_Type  Signal_Strength\n",
       "3  Timestamp  User_ID  Application_Type  Signal_Strength\n",
       "4  Timestamp  User_ID  Application_Type  Signal_Strength"
      ]
     },
     "execution_count": 5,
     "metadata": {},
     "output_type": "execute_result"
    }
   ],
   "source": [
    "import mysql.connector\n",
    "import pandas as pd\n",
    "\n",
    "# Create a MySQL connection\n",
    "sql_engine = mysql.connector.connect(user='root', password='Qwert', host='localhost', port=3306, database='supermarket')\n",
    "driver = sql_engine.cursor()\n",
    "\n",
    "# Define and execute a query\n",
    "query = \"\"\"\n",
    "    SELECT \"Timestamp\", \"User_ID\", \"Application_Type\", \"Signal_Strength\" \n",
    "    FROM wifi\n",
    "    \"\"\"\n",
    "\n",
    "row_count = 0  # Initialize row_count to 0\n",
    "\n",
    "try:\n",
    "    driver.execute(query)\n",
    "    table_roll = driver.fetchall()\n",
    "    df = pd.DataFrame(table_roll)\n",
    "    row_count = len(table_roll)  # Update row_count to the number of rows fetched\n",
    "    driver.close()\n",
    "    sql_engine.commit()\n",
    "    print(row_count, \"rows loaded successfully\")\n",
    "\n",
    "except Exception as e:\n",
    "    sql_engine.rollback()\n",
    "    sql_engine.close()\n",
    "    print(\"Error:\", e)\n",
    "\n",
    "finally:\n",
    "    sql_engine.close()\n",
    "    \n",
    "df.head()\n"
   ]
  },
  {
   "cell_type": "code",
   "execution_count": null,
   "metadata": {},
   "outputs": [],
   "source": []
  },
  {
   "cell_type": "markdown",
   "metadata": {},
   "source": [
    "# DDL & DML Commands on MySQL using Python (Data Manipulation)\n"
   ]
  },
  {
   "cell_type": "code",
   "execution_count": 8,
   "metadata": {},
   "outputs": [
    {
     "name": "stdout",
     "output_type": "stream",
     "text": [
      "1 document updated successfully\n",
      "Updated Table:\n",
      "          Timestamp   User_ID   Application_Type Signal_Strength Latency  \\\n",
      "0    9/3/2023 10:00    User_1         Video_Call         -75 dBm   30 ms   \n",
      "1        20/03/2022       212             casino             -50      20   \n",
      "2        20/03/2022       212             casino             -50      20   \n",
      "3    9/3/2023 10:00    User_4  Emergency_Service         -70 dBm   10 ms   \n",
      "4    9/3/2023 10:00    User_5      Online_Gaming         -78 dBm   25 ms   \n",
      "..              ...       ...                ...             ...     ...   \n",
      "395  9/3/2023 10:06  User_396          Streaming        -110 dBm   61 ms   \n",
      "396  9/3/2023 10:06  User_397         Video_Call         -40 dBm   53 ms   \n",
      "397  9/3/2023 10:06  User_398    Video_Streaming        -113 dBm   58 ms   \n",
      "398  9/3/2023 10:06  User_399  Emergency_Service         -40 dBm    5 ms   \n",
      "399  9/3/2023 10:06  User_400       Web_Browsing        -113 dBm    0 ms   \n",
      "\n",
      "    Required_Bandwidth Allocated_Bandwidth Resource_Allocation  \n",
      "0              10 Mbps             15 Mbps                 70%  \n",
      "1             100 Kbps            120 Kbps                 80%  \n",
      "2               5 Mbps              6 Mbps                 75%  \n",
      "3               1 Mbps            1.5 Mbps                 90%  \n",
      "4               2 Mbps              3 Mbps                 85%  \n",
      "..                 ...                 ...                 ...  \n",
      "395           1.3 Mbps            1.8 Mbps                 85%  \n",
      "396          14.5 Mbps           15.8 Mbps                 75%  \n",
      "397           1.0 Mbps            1.4 Mbps                 70%  \n",
      "398           0.4 Mbps            0.4 Mbps                 70%  \n",
      "399           0.1 Mbps            0.1 Mbps                 70%  \n",
      "\n",
      "[400 rows x 8 columns]\n"
     ]
    }
   ],
   "source": [
    "import mysql.connector\n",
    "import pandas as pd\n",
    "\n",
    "# Create a MySQL connection\n",
    "sql_engine = mysql.connector.connect(user='root', password='Qwert', host='localhost', port=3306, database='supermarket')\n",
    "driver = sql_engine.cursor()\n",
    "\n",
    "# Define and execute an UPDATE query\n",
    "update_query = \"\"\"\n",
    "    UPDATE wifi\n",
    "    SET Timestamp = '20/03/2022', User_ID = '212', Application_Type = 'casino', Signal_Strength = -50, Latency = 20\n",
    "    WHERE User_ID = 'user_3'\n",
    "\"\"\"\n",
    "\n",
    "try:\n",
    "    driver.execute(update_query)\n",
    "    sql_engine.commit()\n",
    "    driver_count = driver.rowcount\n",
    "    print(driver_count, \"document updated successfully\")\n",
    "\n",
    "    # After updating, fetch and display the updated table\n",
    "    select_query = \"\"\"\n",
    "        SELECT * FROM wifi\n",
    "    \"\"\"\n",
    "    driver.execute(select_query)\n",
    "    updated_table = driver.fetchall()\n",
    "    df = pd.DataFrame(updated_table, columns=[desc[0] for desc in driver.description])\n",
    "    print(\"Updated Table:\")\n",
    "    print(df)\n",
    "\n",
    "except Exception as e:\n",
    "    sql_engine.rollback()\n",
    "    print(\"Error:\", e)\n",
    "\n",
    "finally:\n",
    "    sql_engine.close()\n"
   ]
  },
  {
   "cell_type": "code",
   "execution_count": 10,
   "metadata": {},
   "outputs": [
    {
     "name": "stdout",
     "output_type": "stream",
     "text": [
      "1 record(s) added successfully\n"
     ]
    }
   ],
   "source": [
    "import mysql.connector\n",
    "\n",
    "# Create a MySQL connection\n",
    "sql_engine = mysql.connector.connect(user='root', password='Qwert', host='localhost', port=3306, database='supermarket')\n",
    "driver = sql_engine.cursor()\n",
    "\n",
    "# Define values for the new record\n",
    "new_timestamp = '21/03/2022'\n",
    "new_user_id = '213'\n",
    "new_application_type = 'office'\n",
    "new_signal_strength = -60\n",
    "new_latency = 25\n",
    "\n",
    "# Define and execute an INSERT query\n",
    "insert_query = f\"\"\"\n",
    "    INSERT INTO wifi (Timestamp, User_ID, Application_Type, Signal_Strength, Latency)\n",
    "    VALUES ('{new_timestamp}', '{new_user_id}', '{new_application_type}', {new_signal_strength}, {new_latency})\n",
    "\"\"\"\n",
    "\n",
    "try:\n",
    "    driver.execute(insert_query)\n",
    "    sql_engine.commit()\n",
    "    \n",
    "    # Get the number of records added\n",
    "    records_added = driver.rowcount\n",
    "    print(f\"{records_added} record(s) added successfully\")\n",
    "\n",
    "except Exception as e:\n",
    "    sql_engine.rollback()\n",
    "    print(\"Error:\", e)\n",
    "\n",
    "finally:\n",
    "    sql_engine.close()\n"
   ]
  },
  {
   "cell_type": "code",
   "execution_count": 11,
   "metadata": {},
   "outputs": [
    {
     "name": "stdout",
     "output_type": "stream",
     "text": [
      "2 record(s) deleted successfully\n"
     ]
    }
   ],
   "source": [
    "import mysql.connector\n",
    "\n",
    "# Create a MySQL connection\n",
    "sql_engine = mysql.connector.connect(user='root', password='Qwert', host='localhost', port=3306, database='supermarket')\n",
    "driver = sql_engine.cursor()\n",
    "\n",
    "# Define a condition for the records you want to delete (e.g., based on User_ID)\n",
    "user_id_to_delete = '213'\n",
    "\n",
    "# Define and execute a DELETE query\n",
    "delete_query = f\"\"\"\n",
    "    DELETE FROM wifi\n",
    "    WHERE User_ID = '{user_id_to_delete}'\n",
    "\"\"\"\n",
    "\n",
    "try:\n",
    "    driver.execute(delete_query)\n",
    "    sql_engine.commit()\n",
    "    \n",
    "    # Get the number of records deleted\n",
    "    records_deleted = driver.rowcount\n",
    "    print(f\"{records_deleted} record(s) deleted successfully\")\n",
    "\n",
    "except Exception as e:\n",
    "    sql_engine.rollback()\n",
    "    print(\"Error:\", e)\n",
    "\n",
    "finally:\n",
    "    sql_engine.close()\n"
   ]
  }
 ],
 "metadata": {
  "kernelspec": {
   "display_name": "Python 3 (ipykernel)",
   "language": "python",
   "name": "python3"
  },
  "language_info": {
   "codemirror_mode": {
    "name": "ipython",
    "version": 3
   },
   "file_extension": ".py",
   "mimetype": "text/x-python",
   "name": "python",
   "nbconvert_exporter": "python",
   "pygments_lexer": "ipython3",
   "version": "3.11.4"
  }
 },
 "nbformat": 4,
 "nbformat_minor": 4
}
