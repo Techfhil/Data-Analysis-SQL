{
 "cells": [
  {
   "cell_type": "code",
   "execution_count": null,
   "metadata": {},
   "outputs": [],
   "source": [
    "# # Created By: Philip Simeon, 12 September 2023\n",
    "# LinkedIn: https://www.linkedin.com/in/philip-simeon-4026a728b/\n"
   ]
  },
  {
   "cell_type": "markdown",
   "metadata": {},
   "source": [
    "# SQL ALCHEMY METHOD LOADING DATA FROM PANDAS DF TO SQL DATABASE"
   ]
  },
  {
   "cell_type": "code",
   "execution_count": 2,
   "metadata": {},
   "outputs": [
    {
     "name": "stdout",
     "output_type": "stream",
     "text": [
      "Data from CSV file inserted into MySQL database successfully.\n"
     ]
    }
   ],
   "source": [
    "import pandas as pd\n",
    "import sqlalchemy as sa\n",
    "\n",
    "# MySQL database configuration\n",
    "db_username = 'root'\n",
    "db_password = ''\n",
    "db_host = 'localhost'\n",
    "db_port = 3306\n",
    "db_name = 'supermarket'\n",
    "\n",
    "# Define the database connection string\n",
    "db_url = f'mysql+pymysql://{db_username}:{db_password}@{db_host}:{db_port}/{db_name}'\n",
    "\n",
    "# Create the SQLAlchemy engine\n",
    "mysql_engine = sa.create_engine(db_url)\n",
    "\n",
    "# Replace this with your actual CSV file path\n",
    "csv_file_path = 'C:\\\\Users\\\\USER\\\\Desktop\\\\Data Sets\\\\5G service\\\\Quality of Service 5G.csv'\n",
    " \n",
    "\n",
    "try:\n",
    "    # Read the CSV file into a DataFrame\n",
    "    df = pd.read_csv(csv_file_path, encoding='utf-8')\n",
    "\n",
    "\n",
    "    # Insert DataFrame into the MySQL database\n",
    "    df.to_sql('wifi', con=mysql_engine, if_exists='replace', index=False)\n",
    "    print(\"Data from CSV file inserted into MySQL database successfully.\")\n",
    "\n",
    "except Exception as e:\n",
    "    print(f\"An error occurred: {str(e)}\")\n",
    "\n",
    "finally:\n",
    "    # Close the database connection\n",
    "    mysql_engine.dispose()"
   ]
  },
  {
   "cell_type": "code",
   "execution_count": null,
   "metadata": {},
   "outputs": [],
   "source": []
  }
 ],
 "metadata": {
  "kernelspec": {
   "display_name": "Python 3 (ipykernel)",
   "language": "python",
   "name": "python3"
  },
  "language_info": {
   "codemirror_mode": {
    "name": "ipython",
    "version": 3
   },
   "file_extension": ".py",
   "mimetype": "text/x-python",
   "name": "python",
   "nbconvert_exporter": "python",
   "pygments_lexer": "ipython3",
   "version": "3.11.4"
  }
 },
 "nbformat": 4,
 "nbformat_minor": 4
}
